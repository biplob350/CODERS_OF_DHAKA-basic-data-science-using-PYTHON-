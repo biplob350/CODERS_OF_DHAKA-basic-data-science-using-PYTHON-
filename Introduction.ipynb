{
 "cells": [
  {
   "cell_type": "code",
   "execution_count": 1,
   "id": "ba45f9c4-a4d3-460d-afc2-cf2da86b6dbb",
   "metadata": {},
   "outputs": [],
   "source": [
    "import json"
   ]
  },
  {
   "cell_type": "code",
   "execution_count": 3,
   "id": "c5713536-7468-408d-b8c5-feb5cab40a8f",
   "metadata": {},
   "outputs": [],
   "source": [
    "#lets build a function to LOAD the DATA\n",
    "def load_data(filename):\n",
    "    with open(filename, \"r\") as f:\n",
    "        data = json.load(f)\n",
    "        return data"
   ]
  },
  {
   "cell_type": "code",
   "execution_count": 4,
   "id": "0cd184b9-9522-441f-a6d2-8ac19780d96c",
   "metadata": {},
   "outputs": [],
   "source": [
    "data = load_data(\"data.json\")"
   ]
  },
  {
   "cell_type": "code",
   "execution_count": 5,
   "id": "755770c7-7249-4351-adbe-62b33e01dcc4",
   "metadata": {},
   "outputs": [
    {
     "data": {
      "text/plain": [
       "{'users': [{'id': 1, 'name': 'Amit', 'friends': [2, 3], 'liked_pages': [101]},\n",
       "  {'id': 2, 'name': 'Priya', 'friends': [1, 4], 'liked_pages': [102]},\n",
       "  {'id': 3, 'name': 'Rahul', 'friends': [1], 'liked_pages': [101, 103]},\n",
       "  {'id': 4, 'name': 'Sara', 'friends': [2], 'liked_pages': [104]}],\n",
       " 'pages': [{'id': 101, 'name': 'Python Developers'},\n",
       "  {'id': 102, 'name': 'Data Science Enthusiasts'},\n",
       "  {'id': 103, 'name': 'AI & ML Community'},\n",
       "  {'id': 104, 'name': 'Web Dev Hub'}]}"
      ]
     },
     "execution_count": 5,
     "metadata": {},
     "output_type": "execute_result"
    }
   ],
   "source": [
    "data"
   ]
  },
  {
   "cell_type": "code",
   "execution_count": 6,
   "id": "1c84cf3b-03b9-445c-888a-4230b4328284",
   "metadata": {},
   "outputs": [
    {
     "data": {
      "text/plain": [
       "dict"
      ]
     },
     "execution_count": 6,
     "metadata": {},
     "output_type": "execute_result"
    }
   ],
   "source": [
    "type(data)"
   ]
  },
  {
   "cell_type": "code",
   "execution_count": 16,
   "id": "2e20f68a-41a1-4877-8434-83e14b11f681",
   "metadata": {},
   "outputs": [
    {
     "name": "stdout",
     "output_type": "stream",
     "text": [
      "User and their connections\n",
      "\n",
      "1 : Amit is friends with : [2, 3] and liked pages are [101]\n",
      "2 : Priya is friends with : [1, 4] and liked pages are [102]\n",
      "3 : Rahul is friends with : [1] and liked pages are [101, 103]\n",
      "4 : Sara is friends with : [2] and liked pages are [104]\n",
      "\n",
      "Pages informations\n",
      "101 : Python Developers \n",
      "102 : Data Science Enthusiasts \n",
      "103 : AI & ML Community \n",
      "104 : Web Dev Hub \n"
     ]
    }
   ],
   "source": [
    "def display_user(data):\n",
    "    print(\"User and their connections\\n\")\n",
    "    for user in data['users']:\n",
    "        print(f\"{user['id']} : {user['name']} is friends with : {user['friends']} and liked pages are {user['liked_pages']}\")\n",
    "    print(\"\\nPages informations\")\n",
    "    for page in data['pages']:\n",
    "        print(f\"{page['id']} : {page['name']} \")\n",
    "\n",
    "display_user(data)"
   ]
  },
  {
   "cell_type": "code",
   "execution_count": null,
   "id": "0ec7bd61-bb84-4bac-8785-9566c5f37c44",
   "metadata": {},
   "outputs": [],
   "source": []
  }
 ],
 "metadata": {
  "kernelspec": {
   "display_name": "Python 3 (ipykernel)",
   "language": "python",
   "name": "python3"
  },
  "language_info": {
   "codemirror_mode": {
    "name": "ipython",
    "version": 3
   },
   "file_extension": ".py",
   "mimetype": "text/x-python",
   "name": "python",
   "nbconvert_exporter": "python",
   "pygments_lexer": "ipython3",
   "version": "3.12.7"
  }
 },
 "nbformat": 4,
 "nbformat_minor": 5
}
